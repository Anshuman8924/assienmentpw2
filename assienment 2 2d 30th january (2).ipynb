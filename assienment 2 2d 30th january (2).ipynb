{
 "cells": [
  {
   "cell_type": "code",
   "execution_count": null,
   "id": "9d25cf3e-6687-49c2-b594-2ab46b219673",
   "metadata": {},
   "outputs": [],
   "source": [
    "# print grade according to percent and percent user input"
   ]
  },
  {
   "cell_type": "code",
   "execution_count": 1,
   "id": "ba0ee2bb-c10d-48a1-9f2f-9aa6063d47c8",
   "metadata": {},
   "outputs": [
    {
     "name": "stdin",
     "output_type": "stream",
     "text": [
      "enter your percentage 95\n"
     ]
    },
    {
     "name": "stdout",
     "output_type": "stream",
     "text": [
      "grade A\n"
     ]
    }
   ],
   "source": [
    "percent=int(input(\"enter your percentage\"))\n",
    "if percent>90:\n",
    "    print(\"grade A\")\n",
    "elif percent>80 and mark<=90:\n",
    "    print(\"grade B\")\n",
    "elif  mark>=60 and mark<=80:\n",
    "    print(\"grade C\")\n",
    "else :\n",
    "    print('grade D')\n",
    "    "
   ]
  },
  {
   "cell_type": "markdown",
   "id": "6548a260-6dbf-4575-8387-7a0152ce1e0f",
   "metadata": {
    "tags": []
   },
   "source": [
    "# write a program accept cost prise of bike and display road tax\n",
    "#  >100000---15%,>50000 and <=100000 ---10% ,<50000--- 5%"
   ]
  },
  {
   "cell_type": "code",
   "execution_count": 4,
   "id": "8e31478b-b530-456c-9894-f60e7bab829a",
   "metadata": {},
   "outputs": [
    {
     "name": "stdin",
     "output_type": "stream",
     "text": [
      "enter your cost price 100000\n"
     ]
    },
    {
     "name": "stdout",
     "output_type": "stream",
     "text": [
      "road tax 10%\n"
     ]
    }
   ],
   "source": [
    "price= int(input('enter your cost price'))\n",
    "if price>100000:\n",
    "    print('road tax 15%') \n",
    "elif price>50000 and price<=100000:\n",
    "    print('road tax 10%')\n",
    "else:\n",
    "    print('road tax 5%')"
   ]
  },
  {
   "cell_type": "code",
   "execution_count": null,
   "id": "0d257983-2ac7-42e8-841c-b4f0a06f0d24",
   "metadata": {},
   "outputs": [],
   "source": [
    "# howmany time a number can be devided by 3 it is less than 10 or equal?"
   ]
  },
  {
   "cell_type": "code",
   "execution_count": 11,
   "id": "cfc1e2b6-1ac3-46cd-a6a4-abb0ff8c11cc",
   "metadata": {},
   "outputs": [
    {
     "name": "stdin",
     "output_type": "stream",
     "text": [
      "enter the value 18\n"
     ]
    },
    {
     "name": "stdout",
     "output_type": "stream",
     "text": [
      "6.0\n"
     ]
    }
   ],
   "source": [
    "num=int(input('enter the value')) \n",
    "a=num/3\n",
    "if a==int(a):\n",
    "    print(a)\n",
    "else:    \n",
    "    print('not devisible')"
   ]
  },
  {
   "cell_type": "code",
   "execution_count": null,
   "id": "ca2f5ec7-4e8e-4ec0-9bc1-ba28241e1a71",
   "metadata": {},
   "outputs": [],
   "source": [
    "# Accept any city and display that monument\n",
    "# delhi--- redfort\n",
    "# agara---- tajmahal\n",
    "# jaipur----- jalmahal"
   ]
  },
  {
   "cell_type": "code",
   "execution_count": 10,
   "id": "5d57de5d-3daf-40d5-a110-321ebf2182b3",
   "metadata": {},
   "outputs": [
    {
     "name": "stdin",
     "output_type": "stream",
     "text": [
      "enter your city delhi\n"
     ]
    },
    {
     "name": "stdout",
     "output_type": "stream",
     "text": [
      "red fort\n"
     ]
    }
   ],
   "source": [
    "city=input('enter your city')\n",
    "if city.lower()=='delhi':\n",
    "    print('red fort')\n",
    "elif city.lower()=='agara':\n",
    "    print('tajmahal')\n",
    "elif city.lower()=='jaipur':\n",
    "    print('jalmahal')\n",
    "else:\n",
    "    print('enter correct city')\n",
    "    \n"
   ]
  },
  {
   "cell_type": "code",
   "execution_count": 26,
   "id": "1782fee3-bdfa-4822-bb17-ea95776d75b1",
   "metadata": {},
   "outputs": [],
   "source": [
    "### Why and when use to while loop with detail description"
   ]
  },
  {
   "cell_type": "code",
   "execution_count": 1,
   "id": "32142e73-d9bf-45c7-a9e7-5b69c300d461",
   "metadata": {},
   "outputs": [],
   "source": [
    "# Answer -- Allows a part of the code to be executed repeatedly as long as a give\n",
    "# condition is   true.\n",
    "# A \"While\" Loop is used to repeat a specific block of code an unknown number of times,\n",
    "# until a condition is met. "
   ]
  },
  {
   "cell_type": "code",
   "execution_count": 2,
   "id": "b32ee929-aeb9-4e12-9424-7dc3a4a0aaa6",
   "metadata": {},
   "outputs": [],
   "source": [
    "# Ex- sum of number as user input"
   ]
  },
  {
   "cell_type": "code",
   "execution_count": 3,
   "id": "df7183b2-b304-41bd-8b90-cf3aa0f8fca6",
   "metadata": {},
   "outputs": [
    {
     "name": "stdin",
     "output_type": "stream",
     "text": [
      "enter your limit 4\n"
     ]
    },
    {
     "data": {
      "text/plain": [
       "10"
      ]
     },
     "execution_count": 3,
     "metadata": {},
     "output_type": "execute_result"
    }
   ],
   "source": [
    "n=int(input('enter your limit'))\n",
    "summation=0\n",
    "count=1\n",
    "while count<=n:\n",
    "    summation=summation+count\n",
    "    count=count+1\n",
    "summation    \n",
    "    "
   ]
  },
  {
   "cell_type": "code",
   "execution_count": null,
   "id": "d5539d7c-0966-44e1-9b6b-b7dfa6ab7351",
   "metadata": {},
   "outputs": [],
   "source": [
    "# Use nested while loop to print 3 diffrent pattern"
   ]
  },
  {
   "cell_type": "code",
   "execution_count": 1,
   "id": "15bb6870-2051-46fa-8b1c-fb79cf0ece29",
   "metadata": {},
   "outputs": [
    {
     "name": "stdin",
     "output_type": "stream",
     "text": [
      "enter the number 5\n"
     ]
    },
    {
     "name": "stdout",
     "output_type": "stream",
     "text": [
      "*  *  *  *  *  \n",
      "*  *  *  *  \n",
      "*  *  *  \n",
      "*  *  \n",
      "*  \n"
     ]
    }
   ],
   "source": [
    "n=int(input('enter the number'))\n",
    "i=0\n",
    "while (i<n):\n",
    "    j=n-i\n",
    "    while(j>0):\n",
    "        print(\"*\",end=\"  \")\n",
    "        j=j-1\n",
    "    i=i+1\n",
    "    print()"
   ]
  },
  {
   "cell_type": "code",
   "execution_count": 2,
   "id": "f5e8cfb2-eaf6-4111-b28c-e368049b0225",
   "metadata": {},
   "outputs": [
    {
     "name": "stdin",
     "output_type": "stream",
     "text": [
      "enter the number 5\n"
     ]
    },
    {
     "name": "stdout",
     "output_type": "stream",
     "text": [
      "*  \n",
      "*  *  \n",
      "*  *  *  \n",
      "*  *  *  *  \n",
      "*  *  *  *  *  \n"
     ]
    }
   ],
   "source": [
    "n=int(input('enter the number'))\n",
    "i=0\n",
    "while (i<n):\n",
    "    j=i+1\n",
    "    while(j>0):\n",
    "        print(\"*\",end=\"  \")\n",
    "        j=j-1\n",
    "    i=i+1\n",
    "    print()"
   ]
  },
  {
   "cell_type": "code",
   "execution_count": 3,
   "id": "de6f18de-f23a-48ff-a62d-c278000982a3",
   "metadata": {},
   "outputs": [
    {
     "name": "stdin",
     "output_type": "stream",
     "text": [
      "enter the number 5\n"
     ]
    },
    {
     "name": "stdout",
     "output_type": "stream",
     "text": [
      "*  *  *  *  *  \n",
      "*  *  *  *  *  \n",
      "*  *  *  *  *  \n",
      "*  *  *  *  *  \n",
      "*  *  *  *  *  \n"
     ]
    }
   ],
   "source": [
    "n=int(input('enter the number'))\n",
    "i=0\n",
    "while (i<n):\n",
    "    j=n\n",
    "    while(j>0):\n",
    "        print(\"*\",end=\"  \")\n",
    "        j=j-1\n",
    "    i=i+1\n",
    "    print()"
   ]
  },
  {
   "cell_type": "code",
   "execution_count": null,
   "id": "ba2aa6d7-c434-44cc-a8e7-1dcfd257161e",
   "metadata": {},
   "outputs": [],
   "source": [
    "# Reverse a while loop to display 10 to 1"
   ]
  },
  {
   "cell_type": "code",
   "execution_count": 1,
   "id": "8be8e632-47c7-415b-9a27-14cb650e4b32",
   "metadata": {},
   "outputs": [
    {
     "name": "stdout",
     "output_type": "stream",
     "text": [
      "10\n",
      "9\n",
      "8\n",
      "7\n",
      "6\n",
      "5\n",
      "4\n",
      "3\n",
      "2\n"
     ]
    }
   ],
   "source": [
    "i=10\n",
    "while(i>1):\n",
    "    print(i)\n",
    "    i=i-1 "
   ]
  },
  {
   "cell_type": "code",
   "execution_count": null,
   "id": "9884b406-7c3f-4d7e-af74-de7b9798b20e",
   "metadata": {},
   "outputs": [],
   "source": []
  },
  {
   "cell_type": "code",
   "execution_count": null,
   "id": "e6dc4794-fb56-4409-a63f-8646fe53709d",
   "metadata": {},
   "outputs": [],
   "source": []
  }
 ],
 "metadata": {
  "kernelspec": {
   "display_name": "Python 3 (ipykernel)",
   "language": "python",
   "name": "python3"
  },
  "language_info": {
   "codemirror_mode": {
    "name": "ipython",
    "version": 3
   },
   "file_extension": ".py",
   "mimetype": "text/x-python",
   "name": "python",
   "nbconvert_exporter": "python",
   "pygments_lexer": "ipython3",
   "version": "3.10.8"
  }
 },
 "nbformat": 4,
 "nbformat_minor": 5
}
